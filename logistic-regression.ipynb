{
  "nbformat": 4,
  "nbformat_minor": 0,
  "metadata": {
    "colab": {
      "name": "LogisticRegression.ipynb",
      "version": "0.3.2",
      "provenance": [],
      "collapsed_sections": []
    },
    "kernelspec": {
      "name": "python3",
      "display_name": "Python 3"
    }
  },
  "cells": [
    {
      "cell_type": "code",
      "metadata": {
        "id": "WV5msU0ArpHZ",
        "colab_type": "code",
        "colab": {}
      },
      "source": [
        ""
      ],
      "execution_count": 0,
      "outputs": []
    },
    {
      "cell_type": "markdown",
      "metadata": {
        "id": "Ca-1vGS08pf2",
        "colab_type": "text"
      },
      "source": [
        "## BLR AI Academy - Logistic Regression Hands on\n"
      ]
    },
    {
      "cell_type": "markdown",
      "metadata": {
        "id": "EIeESWpWr2Bg",
        "colab_type": "text"
      },
      "source": [
        "In this hands on, we'll implement binary logistic regression from scratch. Logistic regression is a generalized linear model that we can use to model or predict categorical outcome variables. We might use logistic regression to predict whether someone will be denied or approved for a loan, but probably not to predict the value of someone's house.\n",
        "\n",
        "In logistic regression, we're essentially trying to find the weights that maximize the likelihood of producing our given data. Since this maximizing the likelihood is an iterative process, we'll solve the optimization problem with gradient descent. \n",
        "\n",
        "Let's get started. First we need to load the data\n"
      ]
    },
    {
      "cell_type": "code",
      "metadata": {
        "id": "T1hpWr0czUml",
        "colab_type": "code",
        "colab": {}
      },
      "source": [
        "#importing libraries\n",
        "\n",
        "import pandas as pd\n",
        "import numpy as np\n",
        "import matplotlib.pyplot as plt\n",
        "%matplotlib inline\n",
        "import scipy\n",
        "import math\n",
        "\n",
        "from scipy.sparse import csr_matrix, coo_matrix, find, hstack\n",
        "from sklearn.metrics import classification_report, f1_score, roc_curve, roc_auc_score, precision_recall_curve\n",
        "from sklearn.preprocessing import label_binarize, OneHotEncoder, LabelEncoder, MinMaxScaler, MaxAbsScaler, StandardScaler\n",
        "#from sklearn.grid_search import GridSearchCV\n",
        "from sklearn.feature_extraction.text import CountVectorizer\n",
        "from sklearn.base import BaseEstimator, TransformerMixin\n",
        "from sklearn.linear_model import LogisticRegression\n",
        "from sklearn.pipeline import Pipeline, FeatureUnion\n",
        "from sklearn.model_selection import train_test_split"
      ],
      "execution_count": 0,
      "outputs": []
    },
    {
      "cell_type": "markdown",
      "metadata": {
        "id": "KE8-DH7gskf8",
        "colab_type": "text"
      },
      "source": [
        "## Load the data\n",
        "\n",
        "We'll use dataset available at: https://archive.ics.uci.edu/ml/datasets/Census+Income\n",
        "\n",
        "#### Task: Predict whether income exceeds $50K/yr based on census data\n",
        "\n",
        "\n",
        "#### Data Set Information:\n",
        "\n",
        "Extraction was done by Barry Becker from the 1994 Census database. A set of reasonably clean records was extracted using the following conditions: ((AAGE>16) && (AGI>100) && (AFNLWGT>1)&& (HRSWK>0)) \n",
        "\n",
        "Prediction task is to determine whether a person makes over 50K a year.\n",
        "\n",
        "\n",
        "<br>\n",
        "\n",
        "#### Attributes Information:\n",
        "\n",
        "#### Label:  \n",
        " \n",
        "  - ''>50K\", \"<=50K\". \n",
        "\n",
        "\n",
        "\n",
        "#### Features:\n",
        "\n",
        "age: continuous. \n",
        "\n",
        "workclass: Private, Self-emp-not-inc, Self-emp-inc, Federal-gov, Local-gov, State-gov, Without-pay, Never-worked. \n",
        "\n",
        "fnlwgt: continuous. \n",
        "\n",
        "education: Bachelors, Some-college, 11th, HS-grad, Prof-school, Assoc-acdm, Assoc-voc, 9th, 7th-8th, 12th, Masters, 1st-4th, 10th, Doctorate, 5th-6th, Preschool. \n",
        "\n",
        "education-num: continuous. \n",
        "\n",
        "marital-status: Married-civ-spouse, Divorced, Never-married, Separated, Widowed, Married-spouse-absent, Married-AF-spouse. \n",
        "\n",
        "occupation: Tech-support, Craft-repair, Other-service, Sales, Exec-managerial, Prof-specialty, Handlers-cleaners, Machine-op-\n",
        "\n",
        "inspct, Adm-clerical, Farming-fishing, Transport-moving, Priv-house-serv, Protective-serv, Armed-Forces. \n",
        "\n",
        "relationship: Wife, Own-child, Husband, Not-in-family, Other-relative, Unmarried. \n",
        "\n",
        "race: White, Asian-Pac-Islander, Amer-Indian-Eskimo, Other, Black. \n",
        "\n",
        "sex: Female, Male. \n",
        "\n",
        "capital-gain: continuous. \n",
        "\n",
        "capital-loss: continuous. \n",
        "\n",
        "hours-per-week: continuous. \n",
        "\n",
        "native-country: United-States, Cambodia, England, Puerto-Rico, Canada, Germany, Outlying-US(Guam-USVI-etc), India, Japan, Greece, South, China, Cuba, Iran, Honduras, Philippines, Italy, Poland, Jamaica, Vietnam, Mexico, Portugal, Ireland, France, Dominican-Republic, Laos, Ecuador, Taiwan, Haiti, Columbia, Hungary, Guatemala, Nicaragua, Scotland, Thailand, Yugoslavia, El-Salvador, Trinadad&Tobago, Peru, Hong, Holand-Netherlands."
      ]
    },
    {
      "cell_type": "code",
      "metadata": {
        "id": "V2ujPF_7sV7q",
        "colab_type": "code",
        "outputId": "2ee341d1-49e1-4987-aff0-c314b4529695",
        "colab": {
          "base_uri": "https://localhost:8080/",
          "height": 221
        }
      },
      "source": [
        "# We'll load the 1997 Census data\n",
        "\n",
        "df = pd.read_csv(r'http://archive.ics.uci.edu/ml/machine-learning-databases/adult/adult.data', \n",
        "                 names=['age', 'workclass','fnlwgt','education', 'ednum','maritalstatus', 'occupation','relationship',\n",
        "                        'race','sex','capitalgain','capitalloss','hoursperweek','nativecountry','income'])\n",
        "\n",
        "print(df.shape)\n",
        "df.head()"
      ],
      "execution_count": 0,
      "outputs": [
        {
          "output_type": "stream",
          "text": [
            "(32561, 15)\n"
          ],
          "name": "stdout"
        },
        {
          "output_type": "execute_result",
          "data": {
            "text/html": [
              "<div>\n",
              "<style scoped>\n",
              "    .dataframe tbody tr th:only-of-type {\n",
              "        vertical-align: middle;\n",
              "    }\n",
              "\n",
              "    .dataframe tbody tr th {\n",
              "        vertical-align: top;\n",
              "    }\n",
              "\n",
              "    .dataframe thead th {\n",
              "        text-align: right;\n",
              "    }\n",
              "</style>\n",
              "<table border=\"1\" class=\"dataframe\">\n",
              "  <thead>\n",
              "    <tr style=\"text-align: right;\">\n",
              "      <th></th>\n",
              "      <th>age</th>\n",
              "      <th>workclass</th>\n",
              "      <th>fnlwgt</th>\n",
              "      <th>education</th>\n",
              "      <th>ednum</th>\n",
              "      <th>maritalstatus</th>\n",
              "      <th>occupation</th>\n",
              "      <th>relationship</th>\n",
              "      <th>race</th>\n",
              "      <th>sex</th>\n",
              "      <th>capitalgain</th>\n",
              "      <th>capitalloss</th>\n",
              "      <th>hoursperweek</th>\n",
              "      <th>nativecountry</th>\n",
              "      <th>income</th>\n",
              "    </tr>\n",
              "  </thead>\n",
              "  <tbody>\n",
              "    <tr>\n",
              "      <th>0</th>\n",
              "      <td>39</td>\n",
              "      <td>State-gov</td>\n",
              "      <td>77516</td>\n",
              "      <td>Bachelors</td>\n",
              "      <td>13</td>\n",
              "      <td>Never-married</td>\n",
              "      <td>Adm-clerical</td>\n",
              "      <td>Not-in-family</td>\n",
              "      <td>White</td>\n",
              "      <td>Male</td>\n",
              "      <td>2174</td>\n",
              "      <td>0</td>\n",
              "      <td>40</td>\n",
              "      <td>United-States</td>\n",
              "      <td>&lt;=50K</td>\n",
              "    </tr>\n",
              "    <tr>\n",
              "      <th>1</th>\n",
              "      <td>50</td>\n",
              "      <td>Self-emp-not-inc</td>\n",
              "      <td>83311</td>\n",
              "      <td>Bachelors</td>\n",
              "      <td>13</td>\n",
              "      <td>Married-civ-spouse</td>\n",
              "      <td>Exec-managerial</td>\n",
              "      <td>Husband</td>\n",
              "      <td>White</td>\n",
              "      <td>Male</td>\n",
              "      <td>0</td>\n",
              "      <td>0</td>\n",
              "      <td>13</td>\n",
              "      <td>United-States</td>\n",
              "      <td>&lt;=50K</td>\n",
              "    </tr>\n",
              "    <tr>\n",
              "      <th>2</th>\n",
              "      <td>38</td>\n",
              "      <td>Private</td>\n",
              "      <td>215646</td>\n",
              "      <td>HS-grad</td>\n",
              "      <td>9</td>\n",
              "      <td>Divorced</td>\n",
              "      <td>Handlers-cleaners</td>\n",
              "      <td>Not-in-family</td>\n",
              "      <td>White</td>\n",
              "      <td>Male</td>\n",
              "      <td>0</td>\n",
              "      <td>0</td>\n",
              "      <td>40</td>\n",
              "      <td>United-States</td>\n",
              "      <td>&lt;=50K</td>\n",
              "    </tr>\n",
              "    <tr>\n",
              "      <th>3</th>\n",
              "      <td>53</td>\n",
              "      <td>Private</td>\n",
              "      <td>234721</td>\n",
              "      <td>11th</td>\n",
              "      <td>7</td>\n",
              "      <td>Married-civ-spouse</td>\n",
              "      <td>Handlers-cleaners</td>\n",
              "      <td>Husband</td>\n",
              "      <td>Black</td>\n",
              "      <td>Male</td>\n",
              "      <td>0</td>\n",
              "      <td>0</td>\n",
              "      <td>40</td>\n",
              "      <td>United-States</td>\n",
              "      <td>&lt;=50K</td>\n",
              "    </tr>\n",
              "    <tr>\n",
              "      <th>4</th>\n",
              "      <td>28</td>\n",
              "      <td>Private</td>\n",
              "      <td>338409</td>\n",
              "      <td>Bachelors</td>\n",
              "      <td>13</td>\n",
              "      <td>Married-civ-spouse</td>\n",
              "      <td>Prof-specialty</td>\n",
              "      <td>Wife</td>\n",
              "      <td>Black</td>\n",
              "      <td>Female</td>\n",
              "      <td>0</td>\n",
              "      <td>0</td>\n",
              "      <td>40</td>\n",
              "      <td>Cuba</td>\n",
              "      <td>&lt;=50K</td>\n",
              "    </tr>\n",
              "  </tbody>\n",
              "</table>\n",
              "</div>"
            ],
            "text/plain": [
              "   age          workclass  fnlwgt  ... hoursperweek   nativecountry  income\n",
              "0   39          State-gov   77516  ...           40   United-States   <=50K\n",
              "1   50   Self-emp-not-inc   83311  ...           13   United-States   <=50K\n",
              "2   38            Private  215646  ...           40   United-States   <=50K\n",
              "3   53            Private  234721  ...           40   United-States   <=50K\n",
              "4   28            Private  338409  ...           40            Cuba   <=50K\n",
              "\n",
              "[5 rows x 15 columns]"
            ]
          },
          "metadata": {
            "tags": []
          },
          "execution_count": 48
        }
      ]
    },
    {
      "cell_type": "code",
      "metadata": {
        "id": "uV-6Cnl5sWS8",
        "colab_type": "code",
        "outputId": "8112aac6-ba2b-44fa-c674-5e8e78c25090",
        "colab": {
          "base_uri": "https://localhost:8080/",
          "height": 297
        }
      },
      "source": [
        "df.describe()"
      ],
      "execution_count": 0,
      "outputs": [
        {
          "output_type": "execute_result",
          "data": {
            "text/html": [
              "<div>\n",
              "<style scoped>\n",
              "    .dataframe tbody tr th:only-of-type {\n",
              "        vertical-align: middle;\n",
              "    }\n",
              "\n",
              "    .dataframe tbody tr th {\n",
              "        vertical-align: top;\n",
              "    }\n",
              "\n",
              "    .dataframe thead th {\n",
              "        text-align: right;\n",
              "    }\n",
              "</style>\n",
              "<table border=\"1\" class=\"dataframe\">\n",
              "  <thead>\n",
              "    <tr style=\"text-align: right;\">\n",
              "      <th></th>\n",
              "      <th>age</th>\n",
              "      <th>fnlwgt</th>\n",
              "      <th>ednum</th>\n",
              "      <th>capitalgain</th>\n",
              "      <th>capitalloss</th>\n",
              "      <th>hoursperweek</th>\n",
              "    </tr>\n",
              "  </thead>\n",
              "  <tbody>\n",
              "    <tr>\n",
              "      <th>count</th>\n",
              "      <td>32561.000000</td>\n",
              "      <td>3.256100e+04</td>\n",
              "      <td>32561.000000</td>\n",
              "      <td>32561.000000</td>\n",
              "      <td>32561.000000</td>\n",
              "      <td>32561.000000</td>\n",
              "    </tr>\n",
              "    <tr>\n",
              "      <th>mean</th>\n",
              "      <td>38.581647</td>\n",
              "      <td>1.897784e+05</td>\n",
              "      <td>10.080679</td>\n",
              "      <td>1077.648844</td>\n",
              "      <td>87.303830</td>\n",
              "      <td>40.437456</td>\n",
              "    </tr>\n",
              "    <tr>\n",
              "      <th>std</th>\n",
              "      <td>13.640433</td>\n",
              "      <td>1.055500e+05</td>\n",
              "      <td>2.572720</td>\n",
              "      <td>7385.292085</td>\n",
              "      <td>402.960219</td>\n",
              "      <td>12.347429</td>\n",
              "    </tr>\n",
              "    <tr>\n",
              "      <th>min</th>\n",
              "      <td>17.000000</td>\n",
              "      <td>1.228500e+04</td>\n",
              "      <td>1.000000</td>\n",
              "      <td>0.000000</td>\n",
              "      <td>0.000000</td>\n",
              "      <td>1.000000</td>\n",
              "    </tr>\n",
              "    <tr>\n",
              "      <th>25%</th>\n",
              "      <td>28.000000</td>\n",
              "      <td>1.178270e+05</td>\n",
              "      <td>9.000000</td>\n",
              "      <td>0.000000</td>\n",
              "      <td>0.000000</td>\n",
              "      <td>40.000000</td>\n",
              "    </tr>\n",
              "    <tr>\n",
              "      <th>50%</th>\n",
              "      <td>37.000000</td>\n",
              "      <td>1.783560e+05</td>\n",
              "      <td>10.000000</td>\n",
              "      <td>0.000000</td>\n",
              "      <td>0.000000</td>\n",
              "      <td>40.000000</td>\n",
              "    </tr>\n",
              "    <tr>\n",
              "      <th>75%</th>\n",
              "      <td>48.000000</td>\n",
              "      <td>2.370510e+05</td>\n",
              "      <td>12.000000</td>\n",
              "      <td>0.000000</td>\n",
              "      <td>0.000000</td>\n",
              "      <td>45.000000</td>\n",
              "    </tr>\n",
              "    <tr>\n",
              "      <th>max</th>\n",
              "      <td>90.000000</td>\n",
              "      <td>1.484705e+06</td>\n",
              "      <td>16.000000</td>\n",
              "      <td>99999.000000</td>\n",
              "      <td>4356.000000</td>\n",
              "      <td>99.000000</td>\n",
              "    </tr>\n",
              "  </tbody>\n",
              "</table>\n",
              "</div>"
            ],
            "text/plain": [
              "                age        fnlwgt  ...   capitalloss  hoursperweek\n",
              "count  32561.000000  3.256100e+04  ...  32561.000000  32561.000000\n",
              "mean      38.581647  1.897784e+05  ...     87.303830     40.437456\n",
              "std       13.640433  1.055500e+05  ...    402.960219     12.347429\n",
              "min       17.000000  1.228500e+04  ...      0.000000      1.000000\n",
              "25%       28.000000  1.178270e+05  ...      0.000000     40.000000\n",
              "50%       37.000000  1.783560e+05  ...      0.000000     40.000000\n",
              "75%       48.000000  2.370510e+05  ...      0.000000     45.000000\n",
              "max       90.000000  1.484705e+06  ...   4356.000000     99.000000\n",
              "\n",
              "[8 rows x 6 columns]"
            ]
          },
          "metadata": {
            "tags": []
          },
          "execution_count": 49
        }
      ]
    },
    {
      "cell_type": "markdown",
      "metadata": {
        "id": "1LgH_ZVd6RUe",
        "colab_type": "text"
      },
      "source": [
        "## Missing Values"
      ]
    },
    {
      "cell_type": "code",
      "metadata": {
        "id": "9beS46_HsWdm",
        "colab_type": "code",
        "colab": {}
      },
      "source": [
        "# Let's see which features have missing values\n",
        "\n",
        "# print(df.dtypes)\n",
        "\n",
        "# for i,j in zip(df.columns,(df.values.astype(str) == \"?\").sum(axis = 0)):\n",
        "#   if j > 0:\n",
        "#     print(str(i) + ': ' + str(j) + ' records')\n"
      ],
      "execution_count": 0,
      "outputs": []
    },
    {
      "cell_type": "code",
      "metadata": {
        "id": "at35X5gZU1Ao",
        "colab_type": "code",
        "outputId": "6b9d1065-6b8d-4a4a-e863-4be9c5ee163d",
        "colab": {
          "base_uri": "https://localhost:8080/",
          "height": 34
        }
      },
      "source": [
        "df.income.unique()"
      ],
      "execution_count": 0,
      "outputs": [
        {
          "output_type": "execute_result",
          "data": {
            "text/plain": [
              "array([' <=50K', ' >50K'], dtype=object)"
            ]
          },
          "metadata": {
            "tags": []
          },
          "execution_count": 4
        }
      ]
    },
    {
      "cell_type": "markdown",
      "metadata": {
        "id": "FnNrxy01XCZC",
        "colab_type": "text"
      },
      "source": [
        "## Let's look at variables wr.t. the label and plot some of them"
      ]
    },
    {
      "cell_type": "code",
      "metadata": {
        "id": "U5BLWW0kXBFU",
        "colab_type": "code",
        "outputId": "ae64c1ee-ae45-4cc5-ccb5-0e709d33c675",
        "colab": {
          "base_uri": "https://localhost:8080/",
          "height": 590
        }
      },
      "source": [
        "edu_level = {}\n",
        "dfc = df.copy()\n",
        "for x,y in dfc[['ednum','education']].drop_duplicates().itertuples(index=False):\n",
        "    edu_level[y] = x\n",
        "    \n",
        "education = round(pd.crosstab(dfc.education, dfc.income).div(pd.crosstab(dfc.education, dfc.income).apply(sum,1),0),2)\n",
        "education = education.reindex(sorted(edu_level, key=edu_level.get, reverse=False))\n",
        "\n",
        "ax = education.plot(kind ='bar', title = 'Distribution across education levels', figsize = (10,8))\n",
        "ax.set_xlabel('Education')\n",
        "ax.set_ylabel('Proportion of population')\n"
      ],
      "execution_count": 0,
      "outputs": [
        {
          "output_type": "execute_result",
          "data": {
            "text/plain": [
              "Text(0, 0.5, 'Proportion of population')"
            ]
          },
          "metadata": {
            "tags": []
          },
          "execution_count": 5
        },
        {
          "output_type": "display_data",
          "data": {
            "image/png": "[encoded data removed]",
            "text/plain": [
              "<Figure size 720x576 with 1 Axes>"
            ]
          },
          "metadata": {
            "tags": []
          }
        }
      ]
    },
    {
      "cell_type": "markdown",
      "metadata": {
        "id": "aAEZKiroG6Pq",
        "colab_type": "text"
      },
      "source": [
        "## Question:\n",
        "\n",
        "Plot other variables like Gender, Occupation, Age w.r.t. Label (income)"
      ]
    },
    {
      "cell_type": "markdown",
      "metadata": {
        "id": "M3AvvpVGRFsi",
        "colab_type": "text"
      },
      "source": [
        "## Convert Label column to binary"
      ]
    },
    {
      "cell_type": "code",
      "metadata": {
        "id": "AAXqLPHyRE-4",
        "colab_type": "code",
        "outputId": "5fff952e-f0fc-4598-b76c-87fe4ac70a61",
        "colab": {
          "base_uri": "https://localhost:8080/",
          "height": 204
        }
      },
      "source": [
        "df['binaryincome'] = df['income'].apply(lambda x: 0 if x == df.income.iloc[0] else 1)\n",
        "\n",
        "df = df.drop(columns = ['income'])\n",
        "df.head()"
      ],
      "execution_count": 0,
      "outputs": [
        {
          "output_type": "execute_result",
          "data": {
            "text/html": [
              "<div>\n",
              "<style scoped>\n",
              "    .dataframe tbody tr th:only-of-type {\n",
              "        vertical-align: middle;\n",
              "    }\n",
              "\n",
              "    .dataframe tbody tr th {\n",
              "        vertical-align: top;\n",
              "    }\n",
              "\n",
              "    .dataframe thead th {\n",
              "        text-align: right;\n",
              "    }\n",
              "</style>\n",
              "<table border=\"1\" class=\"dataframe\">\n",
              "  <thead>\n",
              "    <tr style=\"text-align: right;\">\n",
              "      <th></th>\n",
              "      <th>age</th>\n",
              "      <th>workclass</th>\n",
              "      <th>fnlwgt</th>\n",
              "      <th>education</th>\n",
              "      <th>ednum</th>\n",
              "      <th>maritalstatus</th>\n",
              "      <th>occupation</th>\n",
              "      <th>relationship</th>\n",
              "      <th>race</th>\n",
              "      <th>sex</th>\n",
              "      <th>capitalgain</th>\n",
              "      <th>capitalloss</th>\n",
              "      <th>hoursperweek</th>\n",
              "      <th>nativecountry</th>\n",
              "      <th>binaryincome</th>\n",
              "    </tr>\n",
              "  </thead>\n",
              "  <tbody>\n",
              "    <tr>\n",
              "      <th>0</th>\n",
              "      <td>39</td>\n",
              "      <td>State-gov</td>\n",
              "      <td>77516</td>\n",
              "      <td>Bachelors</td>\n",
              "      <td>13</td>\n",
              "      <td>Never-married</td>\n",
              "      <td>Adm-clerical</td>\n",
              "      <td>Not-in-family</td>\n",
              "      <td>White</td>\n",
              "      <td>Male</td>\n",
              "      <td>2174</td>\n",
              "      <td>0</td>\n",
              "      <td>40</td>\n",
              "      <td>United-States</td>\n",
              "      <td>0</td>\n",
              "    </tr>\n",
              "    <tr>\n",
              "      <th>1</th>\n",
              "      <td>50</td>\n",
              "      <td>Self-emp-not-inc</td>\n",
              "      <td>83311</td>\n",
              "      <td>Bachelors</td>\n",
              "      <td>13</td>\n",
              "      <td>Married-civ-spouse</td>\n",
              "      <td>Exec-managerial</td>\n",
              "      <td>Husband</td>\n",
              "      <td>White</td>\n",
              "      <td>Male</td>\n",
              "      <td>0</td>\n",
              "      <td>0</td>\n",
              "      <td>13</td>\n",
              "      <td>United-States</td>\n",
              "      <td>0</td>\n",
              "    </tr>\n",
              "    <tr>\n",
              "      <th>2</th>\n",
              "      <td>38</td>\n",
              "      <td>Private</td>\n",
              "      <td>215646</td>\n",
              "      <td>HS-grad</td>\n",
              "      <td>9</td>\n",
              "      <td>Divorced</td>\n",
              "      <td>Handlers-cleaners</td>\n",
              "      <td>Not-in-family</td>\n",
              "      <td>White</td>\n",
              "      <td>Male</td>\n",
              "      <td>0</td>\n",
              "      <td>0</td>\n",
              "      <td>40</td>\n",
              "      <td>United-States</td>\n",
              "      <td>0</td>\n",
              "    </tr>\n",
              "    <tr>\n",
              "      <th>3</th>\n",
              "      <td>53</td>\n",
              "      <td>Private</td>\n",
              "      <td>234721</td>\n",
              "      <td>11th</td>\n",
              "      <td>7</td>\n",
              "      <td>Married-civ-spouse</td>\n",
              "      <td>Handlers-cleaners</td>\n",
              "      <td>Husband</td>\n",
              "      <td>Black</td>\n",
              "      <td>Male</td>\n",
              "      <td>0</td>\n",
              "      <td>0</td>\n",
              "      <td>40</td>\n",
              "      <td>United-States</td>\n",
              "      <td>0</td>\n",
              "    </tr>\n",
              "    <tr>\n",
              "      <th>4</th>\n",
              "      <td>28</td>\n",
              "      <td>Private</td>\n",
              "      <td>338409</td>\n",
              "      <td>Bachelors</td>\n",
              "      <td>13</td>\n",
              "      <td>Married-civ-spouse</td>\n",
              "      <td>Prof-specialty</td>\n",
              "      <td>Wife</td>\n",
              "      <td>Black</td>\n",
              "      <td>Female</td>\n",
              "      <td>0</td>\n",
              "      <td>0</td>\n",
              "      <td>40</td>\n",
              "      <td>Cuba</td>\n",
              "      <td>0</td>\n",
              "    </tr>\n",
              "  </tbody>\n",
              "</table>\n",
              "</div>"
            ],
            "text/plain": [
              "   age          workclass  fnlwgt  ... hoursperweek   nativecountry binaryincome\n",
              "0   39          State-gov   77516  ...           40   United-States            0\n",
              "1   50   Self-emp-not-inc   83311  ...           13   United-States            0\n",
              "2   38            Private  215646  ...           40   United-States            0\n",
              "3   53            Private  234721  ...           40   United-States            0\n",
              "4   28            Private  338409  ...           40            Cuba            0\n",
              "\n",
              "[5 rows x 15 columns]"
            ]
          },
          "metadata": {
            "tags": []
          },
          "execution_count": 50
        }
      ]
    },
    {
      "cell_type": "markdown",
      "metadata": {
        "id": "6EQIKN2rDv5v",
        "colab_type": "text"
      },
      "source": [
        "## Label, Categorical and Numerical Features\n"
      ]
    },
    {
      "cell_type": "code",
      "metadata": {
        "id": "fx0RhF39D271",
        "colab_type": "code",
        "outputId": "9a97e1ae-0f70-4839-bf7d-1c460da2f4fc",
        "colab": {
          "base_uri": "https://localhost:8080/",
          "height": 170
        }
      },
      "source": [
        "label_feature = 'binaryincome'\n",
        "features = df.columns.to_list()[:]\n",
        "features.remove(label_feature)\n",
        "cat_features = list(set(features) - set(df.describe().columns))\n",
        "num_features = list(set(features) - set(cat_features)) \n",
        "\n",
        "cat_features, num_features\n"
      ],
      "execution_count": 0,
      "outputs": [
        {
          "output_type": "execute_result",
          "data": {
            "text/plain": [
              "(['occupation',\n",
              "  'education',\n",
              "  'relationship',\n",
              "  'race',\n",
              "  'maritalstatus',\n",
              "  'workclass',\n",
              "  'nativecountry',\n",
              "  'sex'],\n",
              " ['ednum', 'capitalgain', 'hoursperweek', 'fnlwgt', 'capitalloss', 'age'])"
            ]
          },
          "metadata": {
            "tags": []
          },
          "execution_count": 51
        }
      ]
    },
    {
      "cell_type": "markdown",
      "metadata": {
        "id": "c1CAQD49Y56_",
        "colab_type": "text"
      },
      "source": [
        "## Prepare Data for Training and Testing\n",
        "\n",
        "Convert categorical to one hot encoding"
      ]
    },
    {
      "cell_type": "code",
      "metadata": {
        "id": "3ECH-4pOX60Y",
        "colab_type": "code",
        "colab": {}
      },
      "source": [
        "df_cat_1hot = pd.get_dummies(df[cat_features])\n",
        "df_non_cat = df[num_features]\n",
        "\n",
        "df_prepped = pd.concat([df_non_cat, df_cat_1hot], axis=1, join='inner')\n",
        "df_label = df.binaryincome\n",
        "#df_label = df[['binaryincome']]\n",
        "\n",
        "df_train_x, df_test_x, df_train_y, df_test_y = train_test_split(df_prepped, df_label, test_size = .3, random_state=42, stratify=df_label)\n",
        "#df_train = X_train_raw.merge(y_train_raw.to_frame(), left_index=True, right_index=True)\n",
        "#df_test = X_test_raw.merge(y_test_raw.to_frame(), left_index=True, right_index=True)"
      ],
      "execution_count": 0,
      "outputs": []
    },
    {
      "cell_type": "code",
      "metadata": {
        "id": "JoWh6_G0Zpip",
        "colab_type": "code",
        "outputId": "6c9505ac-23f2-4920-8f75-b33b26c71b93",
        "colab": {
          "base_uri": "https://localhost:8080/",
          "height": 321
        }
      },
      "source": [
        "print(df_prepped.shape)\n",
        "df_prepped.head()"
      ],
      "execution_count": 0,
      "outputs": [
        {
          "output_type": "stream",
          "text": [
            "(32561, 108)\n"
          ],
          "name": "stdout"
        },
        {
          "output_type": "execute_result",
          "data": {
            "text/html": [
              "<div>\n",
              "<style scoped>\n",
              "    .dataframe tbody tr th:only-of-type {\n",
              "        vertical-align: middle;\n",
              "    }\n",
              "\n",
              "    .dataframe tbody tr th {\n",
              "        vertical-align: top;\n",
              "    }\n",
              "\n",
              "    .dataframe thead th {\n",
              "        text-align: right;\n",
              "    }\n",
              "</style>\n",
              "<table border=\"1\" class=\"dataframe\">\n",
              "  <thead>\n",
              "    <tr style=\"text-align: right;\">\n",
              "      <th></th>\n",
              "      <th>ednum</th>\n",
              "      <th>capitalgain</th>\n",
              "      <th>hoursperweek</th>\n",
              "      <th>fnlwgt</th>\n",
              "      <th>capitalloss</th>\n",
              "      <th>age</th>\n",
              "      <th>occupation_ ?</th>\n",
              "      <th>occupation_ Adm-clerical</th>\n",
              "      <th>occupation_ Armed-Forces</th>\n",
              "      <th>occupation_ Craft-repair</th>\n",
              "      <th>occupation_ Exec-managerial</th>\n",
              "      <th>occupation_ Farming-fishing</th>\n",
              "      <th>occupation_ Handlers-cleaners</th>\n",
              "      <th>occupation_ Machine-op-inspct</th>\n",
              "      <th>occupation_ Other-service</th>\n",
              "      <th>occupation_ Priv-house-serv</th>\n",
              "      <th>occupation_ Prof-specialty</th>\n",
              "      <th>occupation_ Protective-serv</th>\n",
              "      <th>occupation_ Sales</th>\n",
              "      <th>occupation_ Tech-support</th>\n",
              "      <th>occupation_ Transport-moving</th>\n",
              "      <th>education_ 10th</th>\n",
              "      <th>education_ 11th</th>\n",
              "      <th>education_ 12th</th>\n",
              "      <th>education_ 1st-4th</th>\n",
              "      <th>education_ 5th-6th</th>\n",
              "      <th>education_ 7th-8th</th>\n",
              "      <th>education_ 9th</th>\n",
              "      <th>education_ Assoc-acdm</th>\n",
              "      <th>education_ Assoc-voc</th>\n",
              "      <th>education_ Bachelors</th>\n",
              "      <th>education_ Doctorate</th>\n",
              "      <th>education_ HS-grad</th>\n",
              "      <th>education_ Masters</th>\n",
              "      <th>education_ Preschool</th>\n",
              "      <th>education_ Prof-school</th>\n",
              "      <th>education_ Some-college</th>\n",
              "      <th>relationship_ Husband</th>\n",
              "      <th>relationship_ Not-in-family</th>\n",
              "      <th>relationship_ Other-relative</th>\n",
              "      <th>...</th>\n",
              "      <th>nativecountry_ Columbia</th>\n",
              "      <th>nativecountry_ Cuba</th>\n",
              "      <th>nativecountry_ Dominican-Republic</th>\n",
              "      <th>nativecountry_ Ecuador</th>\n",
              "      <th>nativecountry_ El-Salvador</th>\n",
              "      <th>nativecountry_ England</th>\n",
              "      <th>nativecountry_ France</th>\n",
              "      <th>nativecountry_ Germany</th>\n",
              "      <th>nativecountry_ Greece</th>\n",
              "      <th>nativecountry_ Guatemala</th>\n",
              "      <th>nativecountry_ Haiti</th>\n",
              "      <th>nativecountry_ Holand-Netherlands</th>\n",
              "      <th>nativecountry_ Honduras</th>\n",
              "      <th>nativecountry_ Hong</th>\n",
              "      <th>nativecountry_ Hungary</th>\n",
              "      <th>nativecountry_ India</th>\n",
              "      <th>nativecountry_ Iran</th>\n",
              "      <th>nativecountry_ Ireland</th>\n",
              "      <th>nativecountry_ Italy</th>\n",
              "      <th>nativecountry_ Jamaica</th>\n",
              "      <th>nativecountry_ Japan</th>\n",
              "      <th>nativecountry_ Laos</th>\n",
              "      <th>nativecountry_ Mexico</th>\n",
              "      <th>nativecountry_ Nicaragua</th>\n",
              "      <th>nativecountry_ Outlying-US(Guam-USVI-etc)</th>\n",
              "      <th>nativecountry_ Peru</th>\n",
              "      <th>nativecountry_ Philippines</th>\n",
              "      <th>nativecountry_ Poland</th>\n",
              "      <th>nativecountry_ Portugal</th>\n",
              "      <th>nativecountry_ Puerto-Rico</th>\n",
              "      <th>nativecountry_ Scotland</th>\n",
              "      <th>nativecountry_ South</th>\n",
              "      <th>nativecountry_ Taiwan</th>\n",
              "      <th>nativecountry_ Thailand</th>\n",
              "      <th>nativecountry_ Trinadad&amp;Tobago</th>\n",
              "      <th>nativecountry_ United-States</th>\n",
              "      <th>nativecountry_ Vietnam</th>\n",
              "      <th>nativecountry_ Yugoslavia</th>\n",
              "      <th>sex_ Female</th>\n",
              "      <th>sex_ Male</th>\n",
              "    </tr>\n",
              "  </thead>\n",
              "  <tbody>\n",
              "    <tr>\n",
              "      <th>0</th>\n",
              "      <td>13</td>\n",
              "      <td>2174</td>\n",
              "      <td>40</td>\n",
              "      <td>77516</td>\n",
              "      <td>0</td>\n",
              "      <td>39</td>\n",
              "      <td>0</td>\n",
              "      <td>1</td>\n",
              "      <td>0</td>\n",
              "      <td>0</td>\n",
              "      <td>0</td>\n",
              "      <td>0</td>\n",
              "      <td>0</td>\n",
              "      <td>0</td>\n",
              "      <td>0</td>\n",
              "      <td>0</td>\n",
              "      <td>0</td>\n",
              "      <td>0</td>\n",
              "      <td>0</td>\n",
              "      <td>0</td>\n",
              "      <td>0</td>\n",
              "      <td>0</td>\n",
              "      <td>0</td>\n",
              "      <td>0</td>\n",
              "      <td>0</td>\n",
              "      <td>0</td>\n",
              "      <td>0</td>\n",
              "      <td>0</td>\n",
              "      <td>0</td>\n",
              "      <td>0</td>\n",
              "      <td>1</td>\n",
              "      <td>0</td>\n",
              "      <td>0</td>\n",
              "      <td>0</td>\n",
              "      <td>0</td>\n",
              "      <td>0</td>\n",
              "      <td>0</td>\n",
              "      <td>0</td>\n",
              "      <td>1</td>\n",
              "      <td>0</td>\n",
              "      <td>...</td>\n",
              "      <td>0</td>\n",
              "      <td>0</td>\n",
              "      <td>0</td>\n",
              "      <td>0</td>\n",
              "      <td>0</td>\n",
              "      <td>0</td>\n",
              "      <td>0</td>\n",
              "      <td>0</td>\n",
              "      <td>0</td>\n",
              "      <td>0</td>\n",
              "      <td>0</td>\n",
              "      <td>0</td>\n",
              "      <td>0</td>\n",
              "      <td>0</td>\n",
              "      <td>0</td>\n",
              "      <td>0</td>\n",
              "      <td>0</td>\n",
              "      <td>0</td>\n",
              "      <td>0</td>\n",
              "      <td>0</td>\n",
              "      <td>0</td>\n",
              "      <td>0</td>\n",
              "      <td>0</td>\n",
              "      <td>0</td>\n",
              "      <td>0</td>\n",
              "      <td>0</td>\n",
              "      <td>0</td>\n",
              "      <td>0</td>\n",
              "      <td>0</td>\n",
              "      <td>0</td>\n",
              "      <td>0</td>\n",
              "      <td>0</td>\n",
              "      <td>0</td>\n",
              "      <td>0</td>\n",
              "      <td>0</td>\n",
              "      <td>1</td>\n",
              "      <td>0</td>\n",
              "      <td>0</td>\n",
              "      <td>0</td>\n",
              "      <td>1</td>\n",
              "    </tr>\n",
              "    <tr>\n",
              "      <th>1</th>\n",
              "      <td>13</td>\n",
              "      <td>0</td>\n",
              "      <td>13</td>\n",
              "      <td>83311</td>\n",
              "      <td>0</td>\n",
              "      <td>50</td>\n",
              "      <td>0</td>\n",
              "      <td>0</td>\n",
              "      <td>0</td>\n",
              "      <td>0</td>\n",
              "      <td>1</td>\n",
              "      <td>0</td>\n",
              "      <td>0</td>\n",
              "      <td>0</td>\n",
              "      <td>0</td>\n",
              "      <td>0</td>\n",
              "      <td>0</td>\n",
              "      <td>0</td>\n",
              "      <td>0</td>\n",
              "      <td>0</td>\n",
              "      <td>0</td>\n",
              "      <td>0</td>\n",
              "      <td>0</td>\n",
              "      <td>0</td>\n",
              "      <td>0</td>\n",
              "      <td>0</td>\n",
              "      <td>0</td>\n",
              "      <td>0</td>\n",
              "      <td>0</td>\n",
              "      <td>0</td>\n",
              "      <td>1</td>\n",
              "      <td>0</td>\n",
              "      <td>0</td>\n",
              "      <td>0</td>\n",
              "      <td>0</td>\n",
              "      <td>0</td>\n",
              "      <td>0</td>\n",
              "      <td>1</td>\n",
              "      <td>0</td>\n",
              "      <td>0</td>\n",
              "      <td>...</td>\n",
              "      <td>0</td>\n",
              "      <td>0</td>\n",
              "      <td>0</td>\n",
              "      <td>0</td>\n",
              "      <td>0</td>\n",
              "      <td>0</td>\n",
              "      <td>0</td>\n",
              "      <td>0</td>\n",
              "      <td>0</td>\n",
              "      <td>0</td>\n",
              "      <td>0</td>\n",
              "      <td>0</td>\n",
              "      <td>0</td>\n",
              "      <td>0</td>\n",
              "      <td>0</td>\n",
              "      <td>0</td>\n",
              "      <td>0</td>\n",
              "      <td>0</td>\n",
              "      <td>0</td>\n",
              "      <td>0</td>\n",
              "      <td>0</td>\n",
              "      <td>0</td>\n",
              "      <td>0</td>\n",
              "      <td>0</td>\n",
              "      <td>0</td>\n",
              "      <td>0</td>\n",
              "      <td>0</td>\n",
              "      <td>0</td>\n",
              "      <td>0</td>\n",
              "      <td>0</td>\n",
              "      <td>0</td>\n",
              "      <td>0</td>\n",
              "      <td>0</td>\n",
              "      <td>0</td>\n",
              "      <td>0</td>\n",
              "      <td>1</td>\n",
              "      <td>0</td>\n",
              "      <td>0</td>\n",
              "      <td>0</td>\n",
              "      <td>1</td>\n",
              "    </tr>\n",
              "    <tr>\n",
              "      <th>2</th>\n",
              "      <td>9</td>\n",
              "      <td>0</td>\n",
              "      <td>40</td>\n",
              "      <td>215646</td>\n",
              "      <td>0</td>\n",
              "      <td>38</td>\n",
              "      <td>0</td>\n",
              "      <td>0</td>\n",
              "      <td>0</td>\n",
              "      <td>0</td>\n",
              "      <td>0</td>\n",
              "      <td>0</td>\n",
              "      <td>1</td>\n",
              "      <td>0</td>\n",
              "      <td>0</td>\n",
              "      <td>0</td>\n",
              "      <td>0</td>\n",
              "      <td>0</td>\n",
              "      <td>0</td>\n",
              "      <td>0</td>\n",
              "      <td>0</td>\n",
              "      <td>0</td>\n",
              "      <td>0</td>\n",
              "      <td>0</td>\n",
              "      <td>0</td>\n",
              "      <td>0</td>\n",
              "      <td>0</td>\n",
              "      <td>0</td>\n",
              "      <td>0</td>\n",
              "      <td>0</td>\n",
              "      <td>0</td>\n",
              "      <td>0</td>\n",
              "      <td>1</td>\n",
              "      <td>0</td>\n",
              "      <td>0</td>\n",
              "      <td>0</td>\n",
              "      <td>0</td>\n",
              "      <td>0</td>\n",
              "      <td>1</td>\n",
              "      <td>0</td>\n",
              "      <td>...</td>\n",
              "      <td>0</td>\n",
              "      <td>0</td>\n",
              "      <td>0</td>\n",
              "      <td>0</td>\n",
              "      <td>0</td>\n",
              "      <td>0</td>\n",
              "      <td>0</td>\n",
              "      <td>0</td>\n",
              "      <td>0</td>\n",
              "      <td>0</td>\n",
              "      <td>0</td>\n",
              "      <td>0</td>\n",
              "      <td>0</td>\n",
              "      <td>0</td>\n",
              "      <td>0</td>\n",
              "      <td>0</td>\n",
              "      <td>0</td>\n",
              "      <td>0</td>\n",
              "      <td>0</td>\n",
              "      <td>0</td>\n",
              "      <td>0</td>\n",
              "      <td>0</td>\n",
              "      <td>0</td>\n",
              "      <td>0</td>\n",
              "      <td>0</td>\n",
              "      <td>0</td>\n",
              "      <td>0</td>\n",
              "      <td>0</td>\n",
              "      <td>0</td>\n",
              "      <td>0</td>\n",
              "      <td>0</td>\n",
              "      <td>0</td>\n",
              "      <td>0</td>\n",
              "      <td>0</td>\n",
              "      <td>0</td>\n",
              "      <td>1</td>\n",
              "      <td>0</td>\n",
              "      <td>0</td>\n",
              "      <td>0</td>\n",
              "      <td>1</td>\n",
              "    </tr>\n",
              "    <tr>\n",
              "      <th>3</th>\n",
              "      <td>7</td>\n",
              "      <td>0</td>\n",
              "      <td>40</td>\n",
              "      <td>234721</td>\n",
              "      <td>0</td>\n",
              "      <td>53</td>\n",
              "      <td>0</td>\n",
              "      <td>0</td>\n",
              "      <td>0</td>\n",
              "      <td>0</td>\n",
              "      <td>0</td>\n",
              "      <td>0</td>\n",
              "      <td>1</td>\n",
              "      <td>0</td>\n",
              "      <td>0</td>\n",
              "      <td>0</td>\n",
              "      <td>0</td>\n",
              "      <td>0</td>\n",
              "      <td>0</td>\n",
              "      <td>0</td>\n",
              "      <td>0</td>\n",
              "      <td>0</td>\n",
              "      <td>1</td>\n",
              "      <td>0</td>\n",
              "      <td>0</td>\n",
              "      <td>0</td>\n",
              "      <td>0</td>\n",
              "      <td>0</td>\n",
              "      <td>0</td>\n",
              "      <td>0</td>\n",
              "      <td>0</td>\n",
              "      <td>0</td>\n",
              "      <td>0</td>\n",
              "      <td>0</td>\n",
              "      <td>0</td>\n",
              "      <td>0</td>\n",
              "      <td>0</td>\n",
              "      <td>1</td>\n",
              "      <td>0</td>\n",
              "      <td>0</td>\n",
              "      <td>...</td>\n",
              "      <td>0</td>\n",
              "      <td>0</td>\n",
              "      <td>0</td>\n",
              "      <td>0</td>\n",
              "      <td>0</td>\n",
              "      <td>0</td>\n",
              "      <td>0</td>\n",
              "      <td>0</td>\n",
              "      <td>0</td>\n",
              "      <td>0</td>\n",
              "      <td>0</td>\n",
              "      <td>0</td>\n",
              "      <td>0</td>\n",
              "      <td>0</td>\n",
              "      <td>0</td>\n",
              "      <td>0</td>\n",
              "      <td>0</td>\n",
              "      <td>0</td>\n",
              "      <td>0</td>\n",
              "      <td>0</td>\n",
              "      <td>0</td>\n",
              "      <td>0</td>\n",
              "      <td>0</td>\n",
              "      <td>0</td>\n",
              "      <td>0</td>\n",
              "      <td>0</td>\n",
              "      <td>0</td>\n",
              "      <td>0</td>\n",
              "      <td>0</td>\n",
              "      <td>0</td>\n",
              "      <td>0</td>\n",
              "      <td>0</td>\n",
              "      <td>0</td>\n",
              "      <td>0</td>\n",
              "      <td>0</td>\n",
              "      <td>1</td>\n",
              "      <td>0</td>\n",
              "      <td>0</td>\n",
              "      <td>0</td>\n",
              "      <td>1</td>\n",
              "    </tr>\n",
              "    <tr>\n",
              "      <th>4</th>\n",
              "      <td>13</td>\n",
              "      <td>0</td>\n",
              "      <td>40</td>\n",
              "      <td>338409</td>\n",
              "      <td>0</td>\n",
              "      <td>28</td>\n",
              "      <td>0</td>\n",
              "      <td>0</td>\n",
              "      <td>0</td>\n",
              "      <td>0</td>\n",
              "      <td>0</td>\n",
              "      <td>0</td>\n",
              "      <td>0</td>\n",
              "      <td>0</td>\n",
              "      <td>0</td>\n",
              "      <td>0</td>\n",
              "      <td>1</td>\n",
              "      <td>0</td>\n",
              "      <td>0</td>\n",
              "      <td>0</td>\n",
              "      <td>0</td>\n",
              "      <td>0</td>\n",
              "      <td>0</td>\n",
              "      <td>0</td>\n",
              "      <td>0</td>\n",
              "      <td>0</td>\n",
              "      <td>0</td>\n",
              "      <td>0</td>\n",
              "      <td>0</td>\n",
              "      <td>0</td>\n",
              "      <td>1</td>\n",
              "      <td>0</td>\n",
              "      <td>0</td>\n",
              "      <td>0</td>\n",
              "      <td>0</td>\n",
              "      <td>0</td>\n",
              "      <td>0</td>\n",
              "      <td>0</td>\n",
              "      <td>0</td>\n",
              "      <td>0</td>\n",
              "      <td>...</td>\n",
              "      <td>0</td>\n",
              "      <td>1</td>\n",
              "      <td>0</td>\n",
              "      <td>0</td>\n",
              "      <td>0</td>\n",
              "      <td>0</td>\n",
              "      <td>0</td>\n",
              "      <td>0</td>\n",
              "      <td>0</td>\n",
              "      <td>0</td>\n",
              "      <td>0</td>\n",
              "      <td>0</td>\n",
              "      <td>0</td>\n",
              "      <td>0</td>\n",
              "      <td>0</td>\n",
              "      <td>0</td>\n",
              "      <td>0</td>\n",
              "      <td>0</td>\n",
              "      <td>0</td>\n",
              "      <td>0</td>\n",
              "      <td>0</td>\n",
              "      <td>0</td>\n",
              "      <td>0</td>\n",
              "      <td>0</td>\n",
              "      <td>0</td>\n",
              "      <td>0</td>\n",
              "      <td>0</td>\n",
              "      <td>0</td>\n",
              "      <td>0</td>\n",
              "      <td>0</td>\n",
              "      <td>0</td>\n",
              "      <td>0</td>\n",
              "      <td>0</td>\n",
              "      <td>0</td>\n",
              "      <td>0</td>\n",
              "      <td>0</td>\n",
              "      <td>0</td>\n",
              "      <td>0</td>\n",
              "      <td>1</td>\n",
              "      <td>0</td>\n",
              "    </tr>\n",
              "  </tbody>\n",
              "</table>\n",
              "<p>5 rows × 108 columns</p>\n",
              "</div>"
            ],
            "text/plain": [
              "   ednum  capitalgain  ...  sex_ Female  sex_ Male\n",
              "0     13         2174  ...            0          1\n",
              "1     13            0  ...            0          1\n",
              "2      9            0  ...            0          1\n",
              "3      7            0  ...            0          1\n",
              "4     13            0  ...            1          0\n",
              "\n",
              "[5 rows x 108 columns]"
            ]
          },
          "metadata": {
            "tags": []
          },
          "execution_count": 16
        }
      ]
    },
    {
      "cell_type": "code",
      "metadata": {
        "id": "qoCQ-qaKaFmz",
        "colab_type": "code",
        "outputId": "1be4b298-8deb-4163-fe54-7359be6728e4",
        "colab": {
          "base_uri": "https://localhost:8080/",
          "height": 136
        }
      },
      "source": [
        "print(df_label.shape)\n",
        "df_label.head()"
      ],
      "execution_count": 0,
      "outputs": [
        {
          "output_type": "stream",
          "text": [
            "(32561,)\n"
          ],
          "name": "stdout"
        },
        {
          "output_type": "execute_result",
          "data": {
            "text/plain": [
              "0    0\n",
              "1    0\n",
              "2    0\n",
              "3    0\n",
              "4    0\n",
              "Name: binaryincome, dtype: int64"
            ]
          },
          "metadata": {
            "tags": []
          },
          "execution_count": 17
        }
      ]
    },
    {
      "cell_type": "code",
      "metadata": {
        "id": "uCqrewZdCxQC",
        "colab_type": "code",
        "outputId": "86f66a30-2dea-42be-d9ef-94c183fd7507",
        "colab": {
          "base_uri": "https://localhost:8080/",
          "height": 323
        }
      },
      "source": [
        "print(df_train_x.shape)\n",
        "print(df_test_x.shape)\n",
        "print(df_train_y.shape)\n",
        "print(df_test_y.shape)\n",
        "print(df_train_x.head())\n",
        "print(df_train_y.head())"
      ],
      "execution_count": 0,
      "outputs": [
        {
          "output_type": "stream",
          "text": [
            "(22792, 108)\n",
            "(9769, 108)\n",
            "(22792,)\n",
            "(9769,)\n",
            "       ednum  capitalgain  ...  sex_ Female  sex_ Male\n",
            "24029      7            0  ...            0          1\n",
            "8788      10            0  ...            1          0\n",
            "15564     10            0  ...            1          0\n",
            "9585       6            0  ...            1          0\n",
            "7377      10            0  ...            1          0\n",
            "\n",
            "[5 rows x 108 columns]\n",
            "24029    0\n",
            "8788     0\n",
            "15564    0\n",
            "9585     0\n",
            "7377     1\n",
            "Name: binaryincome, dtype: int64\n"
          ],
          "name": "stdout"
        }
      ]
    },
    {
      "cell_type": "markdown",
      "metadata": {
        "id": "zrtvR32DsWuI",
        "colab_type": "text"
      },
      "source": [
        "\n",
        "## Selecting the Link Function\n",
        "\n",
        "Generalized linear models usually tranform a linear model of the predictors by using a link function. In logistic regression, the link function is the sigmoid. We can implement this really easily.\n"
      ]
    },
    {
      "cell_type": "code",
      "metadata": {
        "id": "oTZB2x4Vs2oW",
        "colab_type": "code",
        "colab": {}
      },
      "source": [
        "def sigmoid(scores):\n",
        "    return 1 / (1 + np.exp(-scores))"
      ],
      "execution_count": 0,
      "outputs": []
    },
    {
      "cell_type": "markdown",
      "metadata": {
        "id": "tX2-vcuSsW2r",
        "colab_type": "text"
      },
      "source": [
        ""
      ]
    },
    {
      "cell_type": "markdown",
      "metadata": {
        "id": "3fn8j8tgr0p9",
        "colab_type": "text"
      },
      "source": [
        ""
      ]
    },
    {
      "cell_type": "markdown",
      "metadata": {
        "id": "IEro8w7MtGAJ",
        "colab_type": "text"
      },
      "source": [
        "\n",
        "## Maximizing the Likelihood\n",
        "\n",
        "To maximize the likelihood, we need to compute the likelihood and the gradient of the likelihood. Fortunately, the likelihood (for binary classification) can be reduced to a fairly intuitive form by switching to the log-likelihood. We're able to do this without affecting the weights parameter estimation because log transformation are monotonic.\n",
        "\n",
        "Check out Section 4.4.1 of Hastie, Tibsharani, and Friedman's Elements of Statistical Learning for derivations of the functions. \n",
        "\n",
        "Calculating the Log-Likelihood:\n",
        "\n",
        "$$\\begin{equation} ll(\\beta) = \\sum_{i=1}^{N}y_{i}log(1/(1+e^{-\\beta^{T}x_{i}}))  + (1-y_{i}) log(1- 1/(1+e^{-\\beta^{T}x_{i}})) \\end{equation}$$\n",
        "\n",
        "$$\\begin{equation} ll(\\beta) = \\sum_{i=1}^{N}y_{i}\\beta ^{T}x_{i} - log(1+e^{\\beta^{T}x_{i}}) \\end{equation}$$\n",
        "\n",
        "where $y$ is the target class, $x_{i}$ represents an individual data point, and $\\beta$ is the weights vector.\n",
        "\n"
      ]
    },
    {
      "cell_type": "code",
      "metadata": {
        "id": "LXTesu26tSf7",
        "colab_type": "code",
        "colab": {}
      },
      "source": [
        "def log_likelihood(features, target, weights):\n",
        "    scores = np.dot(features, weights)\n",
        "    ll = np.sum( target*scores - np.log(1 + np.exp(scores)) )\n",
        "    return ll"
      ],
      "execution_count": 0,
      "outputs": []
    },
    {
      "cell_type": "code",
      "metadata": {
        "id": "mlQ3zstjtS2l",
        "colab_type": "code",
        "colab": {}
      },
      "source": [
        ""
      ],
      "execution_count": 0,
      "outputs": []
    },
    {
      "cell_type": "code",
      "metadata": {
        "id": "xvflJDLbtTIp",
        "colab_type": "code",
        "colab": {}
      },
      "source": [
        ""
      ],
      "execution_count": 0,
      "outputs": []
    },
    {
      "cell_type": "markdown",
      "metadata": {
        "id": "OOqAe7ngtTQd",
        "colab_type": "text"
      },
      "source": [
        "\n",
        "## Calculating the Gradient\n",
        "\n",
        "Now I need an equation for the gradient of the log-likelihood. By taking the derivative of the equation above and reformulating in matrix form, the gradient becomes:\n",
        "$$\\begin{equation} \\bigtriangledown ll = X^{T}(Y - Predictions) \\end{equation}$$\n",
        "\n",
        "Again, this is really easy to implement. It's so simple I don't even need to wrap it into a function. The gradient here looks very similar to the output layer gradient in a neural network (see my post on neural networks if you're curious).\n",
        "\n",
        "This shouldn't be too surprising, since a neural network is basically just a series of non-linear link functions applied after linear manipulations of the input data.\n"
      ]
    },
    {
      "cell_type": "markdown",
      "metadata": {
        "id": "GHC_PdNOtTTq",
        "colab_type": "text"
      },
      "source": [
        "\n",
        "## Building the Logistic Regression Function\n",
        "\n",
        "Finally, I'm ready to build the model function. I'll add in the option to calculate the model with an intercept, since it's a good option to have.\n"
      ]
    },
    {
      "cell_type": "markdown",
      "metadata": {
        "id": "Ovm-YywstTW3",
        "colab_type": "text"
      },
      "source": [
        ""
      ]
    },
    {
      "cell_type": "code",
      "metadata": {
        "id": "W1IgpdFavyzN",
        "colab_type": "code",
        "colab": {}
      },
      "source": [
        "def logistic_regression(features, target, num_steps, learning_rate, add_intercept = False):\n",
        "  if add_intercept:\n",
        "    intercept = np.ones((features.shape[0], 1))\n",
        "    features = np.hstack((intercept, features))\n",
        "        \n",
        "  weights = np.zeros(features.shape[1])\n",
        "    \n",
        "  for step in iter(range(num_steps)):\n",
        "    scores = np.dot(features, weights)\n",
        "    predictions = sigmoid(scores)\n",
        "\n",
        "    # Update weights with log likelihood gradient\n",
        "    output_error_signal = target - predictions\n",
        "\n",
        "    gradient = np.dot(features.T, output_error_signal)\n",
        "    weights += learning_rate * gradient\n",
        "\n",
        "    # Print log-likelihood every so often\n",
        "    if step % 1000 == 0:\n",
        "      print(log_likelihood(features, target, weights))\n",
        "\n",
        "  return weights"
      ],
      "execution_count": 0,
      "outputs": []
    },
    {
      "cell_type": "code",
      "metadata": {
        "id": "hooprAFtvy2H",
        "colab_type": "code",
        "outputId": "82b7a418-b3c6-4d75-d64e-ec467c12290a",
        "colab": {
          "base_uri": "https://localhost:8080/",
          "height": 34
        }
      },
      "source": [
        "weights = logistic_regression(df_train_x, df_train_y, num_steps = 1, learning_rate = 0.001, add_intercept=True)"
      ],
      "execution_count": 0,
      "outputs": [
        {
          "output_type": "stream",
          "text": [
            "-1171182172287710.0\n"
          ],
          "name": "stdout"
        }
      ]
    },
    {
      "cell_type": "code",
      "metadata": {
        "id": "H1rwdkoMbGf8",
        "colab_type": "code",
        "colab": {}
      },
      "source": [
        ""
      ],
      "execution_count": 0,
      "outputs": []
    },
    {
      "cell_type": "code",
      "metadata": {
        "id": "pCmdy79ubIVW",
        "colab_type": "code",
        "outputId": "91f12a48-8e2b-4220-b6a5-ab22438c324f",
        "colab": {
          "base_uri": "https://localhost:8080/",
          "height": 34
        }
      },
      "source": [
        ""
      ],
      "execution_count": 0,
      "outputs": [
        {
          "output_type": "execute_result",
          "data": {
            "text/plain": [
              "(10000,)"
            ]
          },
          "metadata": {
            "tags": []
          },
          "execution_count": 174
        }
      ]
    },
    {
      "cell_type": "code",
      "metadata": {
        "id": "BPJqw_Hovy5u",
        "colab_type": "code",
        "outputId": "fb189c77-1567-4f22-ce50-65a14334d348",
        "colab": {
          "base_uri": "https://localhost:8080/",
          "height": 493
        }
      },
      "source": [
        "print(weights)"
      ],
      "execution_count": 0,
      "outputs": [
        {
          "output_type": "stream",
          "text": [
            "[-6.74400000e+00 -2.58370000e+01  7.24040550e+04 -1.35838000e+02\n",
            " -1.34900889e+06  2.21199300e+03 -1.05487000e+02 -1.26650000e+00\n",
            " -2.26000000e+00 -9.00000000e-03 -1.08800000e+00  2.64000000e+00\n",
            " -5.88000000e-01 -1.15150000e+00 -1.24350000e+00 -2.88550000e+00\n",
            " -1.69000000e-01  2.22650000e+00  6.60000000e-02 -4.78000000e-01\n",
            "  2.45000000e-02 -5.62000000e-01 -7.41500000e-01 -1.02600000e+00\n",
            " -3.50500000e-01 -1.64500000e-01 -3.21000000e-01 -5.29500000e-01\n",
            " -4.49500000e-01 -2.56000000e-01 -2.59000000e-01  2.19550000e+00\n",
            "  6.43000000e-01 -5.05050000e+00  1.54600000e+00 -5.25000000e-02\n",
            "  8.98000000e-01 -2.82600000e+00  6.85350000e+00 -5.69050000e+00\n",
            " -9.45000000e-01 -5.09400000e+00 -2.80400000e+00  9.36000000e-01\n",
            " -1.86500000e-01 -1.34000000e-01 -1.94550000e+00 -2.12000000e-01\n",
            " -4.26600000e+00 -3.08150000e+00  8.00000000e-03  7.65300000e+00\n",
            " -3.22000000e-01 -9.39600000e+00 -8.72500000e-01 -7.33000000e-01\n",
            " -1.25750000e+00  2.92500000e-01 -3.70000000e-02 -9.00000000e-03\n",
            " -6.58000000e+00  1.02000000e+00 -4.10000000e-02 -1.12500000e-01\n",
            " -1.95000000e-02 -1.10500000e-01  7.50000000e-03  3.45000000e-02\n",
            " -4.50000000e-03 -5.15000000e-02 -2.15000000e-02 -7.65000000e-02\n",
            " -2.45000000e-02 -8.55000000e-02  2.50000000e-03  1.90000000e-02\n",
            "  1.85000000e-02  8.50000000e-03 -5.05000000e-02 -2.70000000e-02\n",
            " -1.50000000e-03 -1.05000000e-02  6.00000000e-03 -3.50000000e-03\n",
            "  3.95000000e-02  2.65000000e-02 -6.00000000e-03 -3.50000000e-03\n",
            " -4.40000000e-02  1.80000000e-02 -1.10000000e-02 -5.78500000e-01\n",
            " -2.50000000e-02 -1.05000000e-02 -2.00000000e-02  2.00000000e-03\n",
            " -2.30000000e-02 -2.85000000e-02 -8.15000000e-02  3.00000000e-03\n",
            " -5.75000000e-02  1.80000000e-02  1.50000000e-03 -1.25000000e-02\n",
            " -5.53850000e+00 -4.95000000e-02  8.00000000e-03 -7.25300000e+00\n",
            "  5.09000000e-01]\n"
          ],
          "name": "stdout"
        }
      ]
    },
    {
      "cell_type": "markdown",
      "metadata": {
        "id": "qF815jedwLFw",
        "colab_type": "text"
      },
      "source": [
        ""
      ]
    },
    {
      "cell_type": "markdown",
      "metadata": {
        "id": "Hk310ZaiwLJe",
        "colab_type": "text"
      },
      "source": [
        "\n",
        "## Comparing with Sklearn's LogisticRegression\n",
        "\n",
        "How do I know if my algorithm spit out the right weights? Well, one the one hand, the math looks right -- so I should be confident it's correct.\n",
        "\n",
        "Fortunately, I can compare my functions' weights to the weights from sk-learn's logistic regression function, which is known to be a correct implementation. They should be the same if I did everything correctly. Since sk-learn's LogisticRegression automatically regularizes (which I didn't do), I set C=1e15 to essentially turn off regularization.\n"
      ]
    },
    {
      "cell_type": "code",
      "metadata": {
        "id": "HJUh1w_RwQ8X",
        "colab_type": "code",
        "outputId": "64d4cf89-42fe-4237-c5ab-1caad7b403e2",
        "colab": {
          "base_uri": "https://localhost:8080/",
          "height": 156
        }
      },
      "source": [
        "from sklearn.linear_model import LogisticRegression\n",
        "\n",
        "clf = LogisticRegression(fit_intercept=True, C = 0.001)\n",
        "clf.fit(df_train_x, df_train_y)"
      ],
      "execution_count": 0,
      "outputs": [
        {
          "output_type": "stream",
          "text": [
            "/usr/local/lib/python3.6/dist-packages/sklearn/linear_model/logistic.py:432: FutureWarning: Default solver will be changed to 'lbfgs' in 0.22. Specify a solver to silence this warning.\n",
            "  FutureWarning)\n"
          ],
          "name": "stderr"
        },
        {
          "output_type": "execute_result",
          "data": {
            "text/plain": [
              "LogisticRegression(C=0.001, class_weight=None, dual=False, fit_intercept=True,\n",
              "                   intercept_scaling=1, l1_ratio=None, max_iter=100,\n",
              "                   multi_class='warn', n_jobs=None, penalty='l2',\n",
              "                   random_state=None, solver='warn', tol=0.0001, verbose=0,\n",
              "                   warm_start=False)"
            ]
          },
          "metadata": {
            "tags": []
          },
          "execution_count": 66
        }
      ]
    },
    {
      "cell_type": "code",
      "metadata": {
        "id": "cngGnbctwQ_C",
        "colab_type": "code",
        "outputId": "ba80fbda-4237-4112-a866-b045ab8799af",
        "colab": {
          "base_uri": "https://localhost:8080/",
          "height": 476
        }
      },
      "source": [
        "#print(clf.intercept_, clf.coef_)\n",
        "print(clf.coef_)"
      ],
      "execution_count": 0,
      "outputs": [
        {
          "output_type": "stream",
          "text": [
            "[[-2.01349900e-03  3.43133531e-04 -9.76460941e-03 -3.72746286e-06\n",
            "   7.52273280e-04 -5.18727525e-03 -4.33763642e-04 -7.02481717e-04\n",
            "  -2.72300227e-06 -2.21523205e-04  1.01994879e-03 -2.03554180e-04\n",
            "  -3.71698913e-04 -3.66632451e-04 -9.62272987e-04 -5.49680141e-05\n",
            "   8.25624941e-04  6.88981711e-05 -1.02271203e-04  4.09800303e-05\n",
            "  -1.41283300e-04 -2.37784455e-04 -3.50123982e-04 -1.18275597e-04\n",
            "  -4.40726745e-05 -9.01700295e-05 -1.71651266e-04 -1.38126332e-04\n",
            "  -5.91256343e-05 -5.91487894e-05  9.13252059e-04  2.29373032e-04\n",
            "  -1.46311293e-03  5.53519942e-04 -1.69361268e-05  2.70624773e-04\n",
            "  -8.25962675e-04  3.00001563e-03 -1.94552096e-03 -3.10871019e-04\n",
            "  -1.80895889e-03 -9.21847326e-04  3.79461880e-04 -8.78876892e-05\n",
            "  -5.35079431e-05 -5.17628129e-04 -6.56163071e-05 -8.83080615e-04\n",
            "  -1.00494807e-03  4.91240975e-06  3.33274076e-03 -1.11366145e-04\n",
            "  -3.30015644e-03 -2.77024605e-04 -2.51878591e-04 -4.30820984e-04\n",
            "   1.52014441e-04  6.06408516e-05 -2.94265756e-06 -1.72657382e-03\n",
            "   3.39516675e-04  2.19257765e-05 -1.41571677e-05 -7.32379481e-06\n",
            "  -3.62119993e-05  2.05087428e-06  1.47087593e-05 -3.31974913e-07\n",
            "  -1.41047132e-05  3.32295902e-06 -2.36800881e-05 -8.49623374e-06\n",
            "  -2.39377706e-05  1.48657541e-06  9.88493937e-06  1.06991436e-05\n",
            "  -9.06568707e-07 -1.45608814e-05 -6.95444516e-06 -1.56548129e-06\n",
            "  -2.71673070e-06  5.42377535e-06 -1.65055088e-06  1.36145325e-05\n",
            "   7.20118981e-06 -1.78835677e-06  2.02246322e-06 -1.15282454e-05\n",
            "   7.54995194e-06 -2.55078887e-06 -1.22006471e-04 -6.05736891e-06\n",
            "  -3.39497996e-06 -4.26121893e-06  3.81435522e-06 -5.33648876e-06\n",
            "  -1.05356983e-05 -2.30361262e-05  1.61919398e-06 -2.38236845e-05\n",
            "   9.12377807e-06  2.36980985e-06 -3.01685545e-06 -1.33375371e-03\n",
            "  -2.08122373e-05  4.40668510e-06 -2.46241686e-03  8.54696177e-04]]\n"
          ],
          "name": "stdout"
        }
      ]
    },
    {
      "cell_type": "markdown",
      "metadata": {
        "id": "ygKp1pu1wczs",
        "colab_type": "text"
      },
      "source": [
        "As expected, my weights nearly perfectly match the sk-learn LogisticRegression weights. If I trained the algorithm longer and with a small enough learning rate, they would eventually match exactly. Why? Because gradient descent on a convex function will always reach the global optimum, given enough time and sufficiently small learning rate."
      ]
    },
    {
      "cell_type": "markdown",
      "metadata": {
        "id": "Bv16EmN0wguD",
        "colab_type": "text"
      },
      "source": [
        "\n",
        "## Let's go over some metrics \n",
        "\n",
        "To get the accuracy, I just need to use the final weights to get the logits for the dataset (final_scores). Then I can use sigmoid to get the final predictions and round them to the nearest integer (0 or 1) to get the predicted class.\n"
      ]
    },
    {
      "cell_type": "code",
      "metadata": {
        "id": "Y4FP0fsuwRB3",
        "colab_type": "code",
        "outputId": "9312e065-3dc3-4fef-f869-ca7335d5ca37",
        "colab": {
          "base_uri": "https://localhost:8080/",
          "height": 85
        }
      },
      "source": [
        "final_scores = np.dot(np.hstack((np.ones((df_test_x.shape[0], 1)),\n",
        "                                 df_test_x)), weights)\n",
        "preds = np.round(sigmoid(final_scores))\n",
        "\n",
        "print('Accuracy from scratch: {0}'.format((preds == df_test_y).sum().astype(float) / len(preds)))\n",
        "print('Accuracy from sk-learn: {0}'.format(clf.score(df_test_x, df_test_y)))"
      ],
      "execution_count": 0,
      "outputs": [
        {
          "output_type": "stream",
          "text": [
            "Accuracy from scratch: 0.7592384072064694\n",
            "Accuracy from sk-learn: 0.7963967652779199\n"
          ],
          "name": "stdout"
        },
        {
          "output_type": "stream",
          "text": [
            "/usr/local/lib/python3.6/dist-packages/ipykernel_launcher.py:2: RuntimeWarning: overflow encountered in exp\n",
            "  \n"
          ],
          "name": "stderr"
        }
      ]
    },
    {
      "cell_type": "code",
      "metadata": {
        "id": "IZLvRwpbwsHr",
        "colab_type": "code",
        "colab": {}
      },
      "source": [
        "def model_eval(actual, pred):\n",
        "    \n",
        "    confusion = pd.crosstab(actual, pred, rownames=['Actual'], colnames=['Predicted'])\n",
        "    TP = confusion.loc[1,1]\n",
        "    TN = confusion.loc[0,0]\n",
        "    FP = confusion.loc[0,1]\n",
        "    FN = confusion.loc[1,0]\n",
        "\n",
        "    accuracy = ((TP+TN))/(TP+FN+FP+TN)\n",
        "    precision = (TP)/(TP+FP)\n",
        "    recall = (TP)/(TP+FN)\n",
        "    f_measure = (2*recall*precision)/(recall+precision)\n",
        "    sensitivity = TP / (TP + FN)\n",
        "    specificity = TN / (TN + FP)\n",
        "    error_rate = 1 - accuracy\n",
        "    \n",
        "    out = {}\n",
        "    out['accuracy'] =  accuracy\n",
        "    out['precision'] = precision\n",
        "    out['recall'] = recall\n",
        "    out['f_measure'] = f_measure\n",
        "    out['sensitivity'] = sensitivity\n",
        "    out['specificity'] = specificity\n",
        "    out['error_rate'] = error_rate\n",
        "    \n",
        "    return out"
      ],
      "execution_count": 0,
      "outputs": []
    },
    {
      "cell_type": "code",
      "metadata": {
        "id": "YqpiunVwdLbw",
        "colab_type": "code",
        "outputId": "70b7bc9a-59a7-40a9-aa7a-ca70399cda12",
        "colab": {
          "base_uri": "https://localhost:8080/",
          "height": 204
        }
      },
      "source": [
        "print(\"From scratch:\")\n",
        "logistic_reg = model_eval(df_test_y, preds)\n",
        "print('Accuracy : %.2f percent'  % (round(logistic_reg['accuracy']*100,3)))\n",
        "print('Precision : %.2f percent' % (round(logistic_reg['precision']*100,3)))\n",
        "print('Recall : %.2f percent' % (round(logistic_reg['recall']*100,3)))\n",
        "print('F1 Score : %.2f percent' % (round(logistic_reg['f_measure']*100,3)))\n",
        "\n",
        "print()\n",
        "\n",
        "print(\"From sklearn:\")\n",
        "logistic_reg = model_eval(df_test_y, clf.predict(df_test_x))\n",
        "print('Accuracy : %.2f percent'  % (round(logistic_reg['accuracy']*100,3)))\n",
        "print('Precision : %.2f percent' % (round(logistic_reg['precision']*100,3)))\n",
        "print('Recall : %.2f percent' % (round(logistic_reg['recall']*100,3)))\n",
        "print('F1 Score : %.2f percent' % (round(logistic_reg['f_measure']*100,3)))"
      ],
      "execution_count": 0,
      "outputs": [
        {
          "output_type": "stream",
          "text": [
            "From scratch:\n",
            "Accuracy : 79.12 percent\n",
            "Precision : 81.84 percent\n",
            "Recall : 17.05 percent\n",
            "F1 Score : 28.22 percent\n",
            "\n",
            "From sklearn:\n",
            "Accuracy : 79.64 percent\n",
            "Precision : 70.60 percent\n",
            "Recall : 26.45 percent\n",
            "F1 Score : 38.48 percent\n"
          ],
          "name": "stdout"
        }
      ]
    },
    {
      "cell_type": "code",
      "metadata": {
        "id": "VxNcLsREOzmh",
        "colab_type": "code",
        "outputId": "27f1415f-4c39-40cd-9027-d5b7e36d7a6e",
        "colab": {
          "base_uri": "https://localhost:8080/",
          "height": 51
        }
      },
      "source": [
        "def rocauc(y_true, y_score):\n",
        "    y_true = np.array(y_true)\n",
        "    y_score = np.array(y_score)\n",
        "    return roc_auc_score(y_true, y_score)\n",
        "  \n",
        "print(rocauc(df_test_y, preds))\n",
        "print(rocauc(df_test_y, clf.predict(df_test_x)))"
      ],
      "execution_count": 0,
      "outputs": [
        {
          "output_type": "stream",
          "text": [
            "0.5792468682902582\n",
            "0.6147680017132915\n"
          ],
          "name": "stdout"
        }
      ]
    },
    {
      "cell_type": "markdown",
      "metadata": {
        "id": "AZo9cTR1GtAO",
        "colab_type": "text"
      },
      "source": [
        "## Question:\n",
        "\n",
        "Print the train metrics and compare with test for each LR implementation"
      ]
    },
    {
      "cell_type": "markdown",
      "metadata": {
        "id": "NFhME5vjwsV5",
        "colab_type": "text"
      },
      "source": [
        "## Plottting curves"
      ]
    },
    {
      "cell_type": "code",
      "metadata": {
        "id": "mVScIq2XGnQ1",
        "colab_type": "code",
        "colab": {}
      },
      "source": [
        "\n",
        "def plot_pr_curve(y_true, y_score, label = None, color = None):\n",
        "    precision, recall, test_threshold = precision_recall_curve(y_true, y_score)\n",
        "    plt.plot(recall, precision, label = label, color = color)\n",
        "    plt.xlabel('Recall')\n",
        "    plt.ylabel('Precision')\n",
        "    plt.legend()\n",
        "    \n",
        "\n",
        "def plot_roc_curve(y_true, y_score, label = None, color = None):\n",
        "    fpr, tpr, test_threshold = roc_curve(y_true, y_score)\n",
        "    plt.plot(fpr, tpr, label = label, color = color)\n",
        "    plt.xlabel('False Positive Rate')\n",
        "    plt.ylabel('True Positive Rate')\n",
        "    plt.legend()"
      ],
      "execution_count": 0,
      "outputs": []
    },
    {
      "cell_type": "code",
      "metadata": {
        "id": "3wltjRYULydJ",
        "colab_type": "code",
        "outputId": "66ac0f02-9aa1-4364-8a3b-a45c1067cd97",
        "colab": {
          "base_uri": "https://localhost:8080/",
          "height": 283
        }
      },
      "source": [
        "plot_pr_curve(df_test_y, preds, label='Scratch')\n",
        "plot_pr_curve(df_test_y, clf.predict(df_test_x), label='sklearn LR')"
      ],
      "execution_count": 0,
      "outputs": [
        {
          "output_type": "display_data",
          "data": {
            "image/png": "[encoded data removed]",
            "text/plain": [
              "<Figure size 432x288 with 1 Axes>"
            ]
          },
          "metadata": {
            "tags": []
          }
        }
      ]
    },
    {
      "cell_type": "code",
      "metadata": {
        "id": "SEikc7PfOUGF",
        "colab_type": "code",
        "outputId": "d0415e24-d786-4e98-ed16-06e32080318e",
        "colab": {
          "base_uri": "https://localhost:8080/",
          "height": 283
        }
      },
      "source": [
        "plot_roc_curve(df_test_y, preds, label='Scratch')\n",
        "plot_roc_curve(df_test_y, clf.predict(df_test_x), label='sklearn LR')"
      ],
      "execution_count": 0,
      "outputs": [
        {
          "output_type": "display_data",
          "data": {
            "image/png": "[encoded data removed]",
            "text/plain": [
              "<Figure size 432x288 with 1 Axes>"
            ]
          },
          "metadata": {
            "tags": []
          }
        }
      ]
    },
    {
      "cell_type": "markdown",
      "metadata": {
        "id": "31wNF7UuwsY2",
        "colab_type": "text"
      },
      "source": [
        ""
      ]
    },
    {
      "cell_type": "markdown",
      "metadata": {
        "id": "mkaGEpq6wzou",
        "colab_type": "text"
      },
      "source": [
        "# Questions and follow-up tasks:\n",
        "\n",
        "\n",
        "### 1. How do these metrics relate to Business Requirements? At what threshold are Precision and Recall calculated? Can we change the threshold to have better recall?\n",
        "\n",
        "### 2. See how *class imbalance* affects train, test performance\n",
        "\n",
        "### 3. Add k fold cross validation and *regularization* to the above and compare how the test error changes\n",
        "\n",
        "### 4. Add different splits of train test - stratified vs randomized splits and compare results\n",
        "\n",
        "### 5. Plot feature importance based on coefficient values\n",
        "\n",
        "### 6. Plot correlation among features to see if there are any redundant features, and compare how model assigns weights to them\n",
        "\n",
        "### 7. Plot correlation of features with label to see if the ones with high correlation got a high weight by the model\n",
        "\n",
        "### 8. Try other algorithms - Random Forest, Gradient Boosted Trees, SVMs (sklearn library) and compare results\n",
        "\n",
        "### 9. Implement distributed Logistic Regression - using other libraries, and/or on Spark/Hadoop\n",
        "\n",
        "### 10. Are the features good? Is including Age / Gender / Race a good idea to train models on? Will this result in a biased model? Is it a good practice to include societal biases in models? If not, how to avoid them? Will mitigating them affect metrics?\n",
        "\n",
        "### 11. What are some baselines to compare this LR implementation against?\n",
        "\n",
        "### 12. Make Y a polynomial function of X and see how train and test results are in LR\n",
        "\n",
        "### 13. This notebook looks at Binary Classification where income is divided into 2 buckets: <=50K and >50K, can we extend this to Multiclass Classification? What if we had more buckets: <=20K, (20K-40K], (40K-60K], (60K-80K], >80K "
      ]
    },
    {
      "cell_type": "markdown",
      "metadata": {
        "id": "JigVBXhvJWz6",
        "colab_type": "text"
      },
      "source": [
        ""
      ]
    },
    {
      "cell_type": "markdown",
      "metadata": {
        "id": "isF-OnoxJW3C",
        "colab_type": "text"
      },
      "source": [
        ""
      ]
    },
    {
      "cell_type": "markdown",
      "metadata": {
        "id": "KZUslT6Awzry",
        "colab_type": "text"
      },
      "source": [
        "\n",
        "## Acknowledgement\n",
        "\n",
        "\n",
        "Material adapted from:\n",
        "- https://github.com/beckernick/logistic_regression_from_scratch/blob/master/logistic_regression_scratch.ipynb\n"
      ]
    }
  ]
}